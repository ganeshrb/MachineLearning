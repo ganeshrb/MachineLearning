{
 "cells": [
  {
   "cell_type": "markdown",
   "metadata": {},
   "source": [
    "## Polynomial Regression:"
   ]
  },
  {
   "cell_type": "code",
   "execution_count": 21,
   "metadata": {},
   "outputs": [],
   "source": [
    "# importing libraries\n",
    "import pandas as pd\n",
    "import numpy as np\n",
    "import matplotlib.pyplot as plt"
   ]
  },
  {
   "cell_type": "code",
   "execution_count": 22,
   "metadata": {},
   "outputs": [
    {
     "data": {
      "text/html": [
       "<div>\n",
       "<style scoped>\n",
       "    .dataframe tbody tr th:only-of-type {\n",
       "        vertical-align: middle;\n",
       "    }\n",
       "\n",
       "    .dataframe tbody tr th {\n",
       "        vertical-align: top;\n",
       "    }\n",
       "\n",
       "    .dataframe thead th {\n",
       "        text-align: right;\n",
       "    }\n",
       "</style>\n",
       "<table border=\"1\" class=\"dataframe\">\n",
       "  <thead>\n",
       "    <tr style=\"text-align: right;\">\n",
       "      <th></th>\n",
       "      <th>Position</th>\n",
       "      <th>Level</th>\n",
       "      <th>Salary</th>\n",
       "    </tr>\n",
       "  </thead>\n",
       "  <tbody>\n",
       "    <tr>\n",
       "      <th>0</th>\n",
       "      <td>Business Analyst</td>\n",
       "      <td>1</td>\n",
       "      <td>45000</td>\n",
       "    </tr>\n",
       "    <tr>\n",
       "      <th>1</th>\n",
       "      <td>Junior Consultant</td>\n",
       "      <td>2</td>\n",
       "      <td>50000</td>\n",
       "    </tr>\n",
       "    <tr>\n",
       "      <th>2</th>\n",
       "      <td>Senior Consultant</td>\n",
       "      <td>3</td>\n",
       "      <td>60000</td>\n",
       "    </tr>\n",
       "    <tr>\n",
       "      <th>3</th>\n",
       "      <td>Manager</td>\n",
       "      <td>4</td>\n",
       "      <td>80000</td>\n",
       "    </tr>\n",
       "    <tr>\n",
       "      <th>4</th>\n",
       "      <td>Country Manager</td>\n",
       "      <td>5</td>\n",
       "      <td>110000</td>\n",
       "    </tr>\n",
       "    <tr>\n",
       "      <th>5</th>\n",
       "      <td>Region Manager</td>\n",
       "      <td>6</td>\n",
       "      <td>150000</td>\n",
       "    </tr>\n",
       "    <tr>\n",
       "      <th>6</th>\n",
       "      <td>Partner</td>\n",
       "      <td>7</td>\n",
       "      <td>200000</td>\n",
       "    </tr>\n",
       "    <tr>\n",
       "      <th>7</th>\n",
       "      <td>Senior Partner</td>\n",
       "      <td>8</td>\n",
       "      <td>300000</td>\n",
       "    </tr>\n",
       "    <tr>\n",
       "      <th>8</th>\n",
       "      <td>C-level</td>\n",
       "      <td>9</td>\n",
       "      <td>500000</td>\n",
       "    </tr>\n",
       "    <tr>\n",
       "      <th>9</th>\n",
       "      <td>CEO</td>\n",
       "      <td>10</td>\n",
       "      <td>1000000</td>\n",
       "    </tr>\n",
       "  </tbody>\n",
       "</table>\n",
       "</div>"
      ],
      "text/plain": [
       "            Position  Level   Salary\n",
       "0   Business Analyst      1    45000\n",
       "1  Junior Consultant      2    50000\n",
       "2  Senior Consultant      3    60000\n",
       "3            Manager      4    80000\n",
       "4    Country Manager      5   110000\n",
       "5     Region Manager      6   150000\n",
       "6            Partner      7   200000\n",
       "7     Senior Partner      8   300000\n",
       "8            C-level      9   500000\n",
       "9                CEO     10  1000000"
      ]
     },
     "execution_count": 22,
     "metadata": {},
     "output_type": "execute_result"
    }
   ],
   "source": [
    "# Importing the dataset\n",
    "dataset = pd.read_csv('position_salaries.csv')\n",
    "dataset"
   ]
  },
  {
   "cell_type": "code",
   "execution_count": 23,
   "metadata": {},
   "outputs": [
    {
     "data": {
      "text/plain": [
       "(array([[ 1],\n",
       "        [ 2],\n",
       "        [ 3],\n",
       "        [ 4],\n",
       "        [ 5],\n",
       "        [ 6],\n",
       "        [ 7],\n",
       "        [ 8],\n",
       "        [ 9],\n",
       "        [10]]),\n",
       " array([  45000,   50000,   60000,   80000,  110000,  150000,  200000,\n",
       "         300000,  500000, 1000000]))"
      ]
     },
     "execution_count": 23,
     "metadata": {},
     "output_type": "execute_result"
    }
   ],
   "source": [
    "X = dataset.iloc[:, 1:2].values\n",
    "y = dataset.iloc[:, 2].values\n",
    "X, y"
   ]
  },
  {
   "cell_type": "code",
   "execution_count": 24,
   "metadata": {},
   "outputs": [],
   "source": [
    "# Splitting the dataset into the Training set and Test set\n",
    "from sklearn.model_selection import train_test_split \n",
    "X_train, X_test, y_train, y_test = train_test_split(X, y, test_size=0.2, random_state=0)"
   ]
  },
  {
   "cell_type": "code",
   "execution_count": 25,
   "metadata": {},
   "outputs": [
    {
     "data": {
      "text/plain": [
       "LinearRegression()"
      ]
     },
     "execution_count": 25,
     "metadata": {},
     "output_type": "execute_result"
    }
   ],
   "source": [
    "# Fitting Linear Regression to the dataset\n",
    "from sklearn.linear_model import LinearRegression\n",
    "lin_reg = LinearRegression()\n",
    "lin_reg.fit(X_train, y_train)"
   ]
  },
  {
   "cell_type": "code",
   "execution_count": 26,
   "metadata": {},
   "outputs": [
    {
     "data": {
      "image/png": "[encoded data removed]",
      "text/plain": [
       "<Figure size 432x288 with 1 Axes>"
      ]
     },
     "metadata": {
      "needs_background": "light"
     },
     "output_type": "display_data"
    }
   ],
   "source": [
    "# Visualizing the Linear Regression results\n",
    "plt.scatter(X, y, color='red')\n",
    "plt.plot(X_train, lin_reg.predict(X_train), color='blue')\n",
    "plt.title('Truth or Bluff (Linear Regression)')\n",
    "plt.xlabel('Position level')\n",
    "plt.ylabel('Salary')\n",
    "plt.show()"
   ]
  },
  {
   "cell_type": "code",
   "execution_count": 27,
   "metadata": {},
   "outputs": [
    {
     "data": {
      "text/plain": [
       "array([252274.95107632])"
      ]
     },
     "execution_count": 27,
     "metadata": {},
     "output_type": "execute_result"
    }
   ],
   "source": [
    "# Predicting a new result with Linear Regression\n",
    "lin_reg.predict([[5.5]])"
   ]
  },
  {
   "cell_type": "code",
   "execution_count": 28,
   "metadata": {},
   "outputs": [
    {
     "data": {
      "text/plain": [
       "array([ 44275.9295499 , 543473.58121331])"
      ]
     },
     "execution_count": 28,
     "metadata": {},
     "output_type": "execute_result"
    }
   ],
   "source": [
    "# Predicting a new result with Linear Regression\n",
    "y_pred = lin_reg.predict(X_test)\n",
    "y_pred"
   ]
  },
  {
   "cell_type": "code",
   "execution_count": 29,
   "metadata": {},
   "outputs": [
    {
     "data": {
      "text/plain": [
       "0.9779215014976274"
      ]
     },
     "execution_count": 29,
     "metadata": {},
     "output_type": "execute_result"
    }
   ],
   "source": [
    "# Calculating R^2 for the accuracy of the model\n",
    "from sklearn.metrics import r2_score\n",
    "r2_score(y_test, y_pred)"
   ]
  },
  {
   "cell_type": "markdown",
   "metadata": {},
   "source": [
    "#### Polynomial Regression"
   ]
  },
  {
   "cell_type": "code",
   "execution_count": 30,
   "metadata": {},
   "outputs": [
    {
     "data": {
      "text/plain": [
       "(array([[ 5],\n",
       "        [10],\n",
       "        [ 2],\n",
       "        [ 7],\n",
       "        [ 8],\n",
       "        [ 4],\n",
       "        [ 1],\n",
       "        [ 6]]),\n",
       " array([[1.000e+00, 5.000e+00, 2.500e+01, 1.250e+02, 6.250e+02],\n",
       "        [1.000e+00, 1.000e+01, 1.000e+02, 1.000e+03, 1.000e+04],\n",
       "        [1.000e+00, 2.000e+00, 4.000e+00, 8.000e+00, 1.600e+01],\n",
       "        [1.000e+00, 7.000e+00, 4.900e+01, 3.430e+02, 2.401e+03],\n",
       "        [1.000e+00, 8.000e+00, 6.400e+01, 5.120e+02, 4.096e+03],\n",
       "        [1.000e+00, 4.000e+00, 1.600e+01, 6.400e+01, 2.560e+02],\n",
       "        [1.000e+00, 1.000e+00, 1.000e+00, 1.000e+00, 1.000e+00],\n",
       "        [1.000e+00, 6.000e+00, 3.600e+01, 2.160e+02, 1.296e+03]]))"
      ]
     },
     "execution_count": 30,
     "metadata": {},
     "output_type": "execute_result"
    }
   ],
   "source": [
    "# Fitting Polynomial Regression to the dataset\n",
    "from sklearn.preprocessing import PolynomialFeatures\n",
    "poly_features = PolynomialFeatures(degree= 4)\n",
    "  \n",
    "# transforms the existing features to higher degree features.\n",
    "X_train_poly = poly_features.fit_transform(X_train)\n",
    "X_train, X_train_poly"
   ]
  },
  {
   "cell_type": "code",
   "execution_count": 31,
   "metadata": {},
   "outputs": [
    {
     "data": {
      "text/plain": [
       "LinearRegression()"
      ]
     },
     "execution_count": 31,
     "metadata": {},
     "output_type": "execute_result"
    }
   ],
   "source": [
    "# fit the transformed features to Linear Regression\n",
    "poly_reg = LinearRegression()\n",
    "poly_reg.fit(X_train_poly, y_train)"
   ]
  },
  {
   "cell_type": "code",
   "execution_count": 32,
   "metadata": {},
   "outputs": [
    {
     "data": {
      "image/png": "[encoded data removed]",
      "text/plain": [
       "<Figure size 432x288 with 1 Axes>"
      ]
     },
     "metadata": {
      "needs_background": "light"
     },
     "output_type": "display_data"
    }
   ],
   "source": [
    "# Visualizing the Polymonial Regression results\n",
    "plt.scatter(X, y, color='red')\n",
    "plt.plot(X, poly_reg.predict(poly_features.fit_transform(X)), color='blue')\n",
    "plt.title('Truth or Bluff (Polynomial Regression)')\n",
    "plt.xlabel('Position level')\n",
    "plt.ylabel('Salary')\n",
    "plt.show()"
   ]
  },
  {
   "cell_type": "code",
   "execution_count": 33,
   "metadata": {},
   "outputs": [
    {
     "data": {
      "text/plain": [
       "array([114333.04512588, 998396.28808584,  39737.47907992, 191766.33326152,\n",
       "       310607.85933287,  90848.71741527,  49317.36159873, 139992.91609996])"
      ]
     },
     "execution_count": 33,
     "metadata": {},
     "output_type": "execute_result"
    }
   ],
   "source": [
    "# predicting on training data-set\n",
    "y_train_pred = poly_reg.predict(X_train_poly)\n",
    "y_train_pred"
   ]
  },
  {
   "cell_type": "code",
   "execution_count": 34,
   "metadata": {},
   "outputs": [
    {
     "data": {
      "text/plain": [
       "array([ 62618.48984241, 554488.61683466])"
      ]
     },
     "execution_count": 34,
     "metadata": {},
     "output_type": "execute_result"
    }
   ],
   "source": [
    "# predicting on test data-set\n",
    "y_test_pred = poly_reg.predict(poly_features.fit_transform(X_test))\n",
    "y_test_pred"
   ]
  },
  {
   "cell_type": "code",
   "execution_count": 35,
   "metadata": {},
   "outputs": [
    {
     "data": {
      "text/plain": [
       "0.999231851781535"
      ]
     },
     "execution_count": 35,
     "metadata": {},
     "output_type": "execute_result"
    }
   ],
   "source": [
    "# evaluating the model on training dataset\n",
    "# Calculating R^2 for the accuracy of the model\n",
    "r2_train = r2_score(y_train, y_train_pred)\n",
    "r2_train"
   ]
  },
  {
   "cell_type": "code",
   "execution_count": 36,
   "metadata": {},
   "outputs": [
    {
     "data": {
      "text/plain": [
       "0.9692575841569272"
      ]
     },
     "execution_count": 36,
     "metadata": {},
     "output_type": "execute_result"
    }
   ],
   "source": [
    "# evaluating the model on training dataset\n",
    "# Calculating R^2 for the accuracy of the model\n",
    "r2_train = r2_score(y_test, y_test_pred)\n",
    "r2_train"
   ]
  },
  {
   "cell_type": "markdown",
   "metadata": {},
   "source": [
    "### New Data\n",
    "#### FuelConsumption.csv"
   ]
  },
  {
   "cell_type": "code",
   "execution_count": 37,
   "metadata": {},
   "outputs": [],
   "source": [
    "%matplotlib inline\n",
    "import pandas as pd\n",
    "import numpy as np\n",
    "import matplotlib.pyplot as plt"
   ]
  },
  {
   "cell_type": "code",
   "execution_count": 38,
   "metadata": {},
   "outputs": [
    {
     "data": {
      "text/html": [
       "<div>\n",
       "<style scoped>\n",
       "    .dataframe tbody tr th:only-of-type {\n",
       "        vertical-align: middle;\n",
       "    }\n",
       "\n",
       "    .dataframe tbody tr th {\n",
       "        vertical-align: top;\n",
       "    }\n",
       "\n",
       "    .dataframe thead th {\n",
       "        text-align: right;\n",
       "    }\n",
       "</style>\n",
       "<table border=\"1\" class=\"dataframe\">\n",
       "  <thead>\n",
       "    <tr style=\"text-align: right;\">\n",
       "      <th></th>\n",
       "      <th>MODELYEAR</th>\n",
       "      <th>MAKE</th>\n",
       "      <th>MODEL</th>\n",
       "      <th>VEHICLECLASS</th>\n",
       "      <th>ENGINESIZE</th>\n",
       "      <th>CYLINDERS</th>\n",
       "      <th>TRANSMISSION</th>\n",
       "      <th>FUELTYPE</th>\n",
       "      <th>FUELCONSUMPTION_CITY</th>\n",
       "      <th>FUELCONSUMPTION_HWY</th>\n",
       "      <th>FUELCONSUMPTION_COMB</th>\n",
       "      <th>FUELCONSUMPTION_COMB_MPG</th>\n",
       "      <th>CO2EMISSIONS</th>\n",
       "    </tr>\n",
       "  </thead>\n",
       "  <tbody>\n",
       "    <tr>\n",
       "      <th>0</th>\n",
       "      <td>2014</td>\n",
       "      <td>ACURA</td>\n",
       "      <td>ILX</td>\n",
       "      <td>COMPACT</td>\n",
       "      <td>2.0</td>\n",
       "      <td>4</td>\n",
       "      <td>AS5</td>\n",
       "      <td>Z</td>\n",
       "      <td>9.9</td>\n",
       "      <td>6.7</td>\n",
       "      <td>8.5</td>\n",
       "      <td>33</td>\n",
       "      <td>196</td>\n",
       "    </tr>\n",
       "    <tr>\n",
       "      <th>1</th>\n",
       "      <td>2014</td>\n",
       "      <td>ACURA</td>\n",
       "      <td>ILX</td>\n",
       "      <td>COMPACT</td>\n",
       "      <td>2.4</td>\n",
       "      <td>4</td>\n",
       "      <td>M6</td>\n",
       "      <td>Z</td>\n",
       "      <td>11.2</td>\n",
       "      <td>7.7</td>\n",
       "      <td>9.6</td>\n",
       "      <td>29</td>\n",
       "      <td>221</td>\n",
       "    </tr>\n",
       "    <tr>\n",
       "      <th>2</th>\n",
       "      <td>2014</td>\n",
       "      <td>ACURA</td>\n",
       "      <td>ILX HYBRID</td>\n",
       "      <td>COMPACT</td>\n",
       "      <td>1.5</td>\n",
       "      <td>4</td>\n",
       "      <td>AV7</td>\n",
       "      <td>Z</td>\n",
       "      <td>6.0</td>\n",
       "      <td>5.8</td>\n",
       "      <td>5.9</td>\n",
       "      <td>48</td>\n",
       "      <td>136</td>\n",
       "    </tr>\n",
       "    <tr>\n",
       "      <th>3</th>\n",
       "      <td>2014</td>\n",
       "      <td>ACURA</td>\n",
       "      <td>MDX 4WD</td>\n",
       "      <td>SUV - SMALL</td>\n",
       "      <td>3.5</td>\n",
       "      <td>6</td>\n",
       "      <td>AS6</td>\n",
       "      <td>Z</td>\n",
       "      <td>12.7</td>\n",
       "      <td>9.1</td>\n",
       "      <td>11.1</td>\n",
       "      <td>25</td>\n",
       "      <td>255</td>\n",
       "    </tr>\n",
       "    <tr>\n",
       "      <th>4</th>\n",
       "      <td>2014</td>\n",
       "      <td>ACURA</td>\n",
       "      <td>RDX AWD</td>\n",
       "      <td>SUV - SMALL</td>\n",
       "      <td>3.5</td>\n",
       "      <td>6</td>\n",
       "      <td>AS6</td>\n",
       "      <td>Z</td>\n",
       "      <td>12.1</td>\n",
       "      <td>8.7</td>\n",
       "      <td>10.6</td>\n",
       "      <td>27</td>\n",
       "      <td>244</td>\n",
       "    </tr>\n",
       "  </tbody>\n",
       "</table>\n",
       "</div>"
      ],
      "text/plain": [
       "   MODELYEAR   MAKE       MODEL VEHICLECLASS  ENGINESIZE  CYLINDERS  \\\n",
       "0       2014  ACURA         ILX      COMPACT         2.0          4   \n",
       "1       2014  ACURA         ILX      COMPACT         2.4          4   \n",
       "2       2014  ACURA  ILX HYBRID      COMPACT         1.5          4   \n",
       "3       2014  ACURA     MDX 4WD  SUV - SMALL         3.5          6   \n",
       "4       2014  ACURA     RDX AWD  SUV - SMALL         3.5          6   \n",
       "\n",
       "  TRANSMISSION FUELTYPE  FUELCONSUMPTION_CITY  FUELCONSUMPTION_HWY  \\\n",
       "0          AS5        Z                   9.9                  6.7   \n",
       "1           M6        Z                  11.2                  7.7   \n",
       "2          AV7        Z                   6.0                  5.8   \n",
       "3          AS6        Z                  12.7                  9.1   \n",
       "4          AS6        Z                  12.1                  8.7   \n",
       "\n",
       "   FUELCONSUMPTION_COMB  FUELCONSUMPTION_COMB_MPG  CO2EMISSIONS  \n",
       "0                   8.5                        33           196  \n",
       "1                   9.6                        29           221  \n",
       "2                   5.9                        48           136  \n",
       "3                  11.1                        25           255  \n",
       "4                  10.6                        27           244  "
      ]
     },
     "execution_count": 38,
     "metadata": {},
     "output_type": "execute_result"
    }
   ],
   "source": [
    "df = pd.read_csv(\"FuelConsumption.csv\")\n",
    "\n",
    "# take a look at the dataset\n",
    "df.head()"
   ]
  },
  {
   "cell_type": "markdown",
   "metadata": {},
   "source": [
    "For regression purpose we are going to select some important features"
   ]
  },
  {
   "cell_type": "code",
   "execution_count": 39,
   "metadata": {},
   "outputs": [
    {
     "data": {
      "text/html": [
       "<div>\n",
       "<style scoped>\n",
       "    .dataframe tbody tr th:only-of-type {\n",
       "        vertical-align: middle;\n",
       "    }\n",
       "\n",
       "    .dataframe tbody tr th {\n",
       "        vertical-align: top;\n",
       "    }\n",
       "\n",
       "    .dataframe thead th {\n",
       "        text-align: right;\n",
       "    }\n",
       "</style>\n",
       "<table border=\"1\" class=\"dataframe\">\n",
       "  <thead>\n",
       "    <tr style=\"text-align: right;\">\n",
       "      <th></th>\n",
       "      <th>ENGINESIZE</th>\n",
       "      <th>CYLINDERS</th>\n",
       "      <th>FUELCONSUMPTION_COMB</th>\n",
       "      <th>CO2EMISSIONS</th>\n",
       "    </tr>\n",
       "  </thead>\n",
       "  <tbody>\n",
       "    <tr>\n",
       "      <th>0</th>\n",
       "      <td>2.0</td>\n",
       "      <td>4</td>\n",
       "      <td>8.5</td>\n",
       "      <td>196</td>\n",
       "    </tr>\n",
       "    <tr>\n",
       "      <th>1</th>\n",
       "      <td>2.4</td>\n",
       "      <td>4</td>\n",
       "      <td>9.6</td>\n",
       "      <td>221</td>\n",
       "    </tr>\n",
       "    <tr>\n",
       "      <th>2</th>\n",
       "      <td>1.5</td>\n",
       "      <td>4</td>\n",
       "      <td>5.9</td>\n",
       "      <td>136</td>\n",
       "    </tr>\n",
       "    <tr>\n",
       "      <th>3</th>\n",
       "      <td>3.5</td>\n",
       "      <td>6</td>\n",
       "      <td>11.1</td>\n",
       "      <td>255</td>\n",
       "    </tr>\n",
       "    <tr>\n",
       "      <th>4</th>\n",
       "      <td>3.5</td>\n",
       "      <td>6</td>\n",
       "      <td>10.6</td>\n",
       "      <td>244</td>\n",
       "    </tr>\n",
       "  </tbody>\n",
       "</table>\n",
       "</div>"
      ],
      "text/plain": [
       "   ENGINESIZE  CYLINDERS  FUELCONSUMPTION_COMB  CO2EMISSIONS\n",
       "0         2.0          4                   8.5           196\n",
       "1         2.4          4                   9.6           221\n",
       "2         1.5          4                   5.9           136\n",
       "3         3.5          6                  11.1           255\n",
       "4         3.5          6                  10.6           244"
      ]
     },
     "execution_count": 39,
     "metadata": {},
     "output_type": "execute_result"
    }
   ],
   "source": [
    "imf = df[['ENGINESIZE','CYLINDERS','FUELCONSUMPTION_COMB','CO2EMISSIONS']]\n",
    "imf.head()"
   ]
  },
  {
   "cell_type": "code",
   "execution_count": 40,
   "metadata": {},
   "outputs": [],
   "source": [
    "X = imf.iloc[:,0:3]\n",
    "y = imf.iloc[:,3]"
   ]
  },
  {
   "cell_type": "code",
   "execution_count": 41,
   "metadata": {},
   "outputs": [],
   "source": [
    "# Splitting the dataset into the Training set and Test set\n",
    "from sklearn.model_selection import train_test_split \n",
    "X_train, X_test, y_train, y_test = train_test_split(X, y, test_size=0.25, random_state=0)"
   ]
  },
  {
   "cell_type": "code",
   "execution_count": 42,
   "metadata": {},
   "outputs": [
    {
     "data": {
      "text/plain": [
       "LinearRegression()"
      ]
     },
     "execution_count": 42,
     "metadata": {},
     "output_type": "execute_result"
    }
   ],
   "source": [
    "# Fitting Linear Regression to the dataset\n",
    "from sklearn.linear_model import LinearRegression\n",
    "lin_reg = LinearRegression()\n",
    "lin_reg.fit(X_train, y_train)"
   ]
  },
  {
   "cell_type": "code",
   "execution_count": 43,
   "metadata": {},
   "outputs": [
    {
     "data": {
      "text/plain": [
       "array([335.34171536, 209.99794075, 218.19014703, 229.58030242,\n",
       "       194.80328229, 296.7675563 , 210.90818589, 265.77495329,\n",
       "       207.26720532, 320.29049345, 280.33887556, 382.66709862,\n",
       "       224.95735844, 292.21633059, 185.35696778, 279.26510792,\n",
       "       349.76956523, 205.94137882, 254.57250262, 379.54496406,\n",
       "       195.57745502, 229.99588379, 251.8417672 , 217.98235635,\n",
       "       180.23936001, 261.36716412, 267.24421634, 359.35931629,\n",
       "       291.64994854, 166.09838324, 337.4417146 , 223.02088169,\n",
       "       285.52083746, 243.16226128, 195.57745502, 195.01843711,\n",
       "       313.14460472, 214.54916646, 224.49014475, 250.30078587,\n",
       "       192.8467196 , 192.8467196 , 207.26720532, 187.94426665,\n",
       "       311.67534167, 200.68769864, 230.02333388, 188.64672111,\n",
       "       387.5769157 , 371.21668537, 318.54172144, 321.57941591,\n",
       "       271.23642414, 171.00083618, 218.19014703, 188.64672111,\n",
       "       295.50608393, 182.83402303, 253.73397576, 205.23892436,\n",
       "       199.56966282, 209.36720456, 211.61064035, 359.35931629,\n",
       "       260.31348243, 304.25730812, 328.48269973, 287.6208367 ,\n",
       "       199.56966282, 164.42132951, 317.97533939, 229.99588379,\n",
       "       324.91343744, 345.70563916, 314.97245915, 212.72867617,\n",
       "       268.50568871, 193.40573751, 215.25162092, 187.94426665,\n",
       "       190.18770244, 257.86225596, 183.74426817, 306.01344427,\n",
       "       339.90030521, 251.56225824, 190.81843863, 183.53647749,\n",
       "       353.05931857, 304.52945294, 253.17495784, 205.23892436,\n",
       "       234.3667689 , 383.09740826, 337.72122356, 338.70318698,\n",
       "       194.80328229, 242.73931578, 383.18594463, 256.74422014,\n",
       "       199.07499904, 312.4495144 , 170.09059104, 185.56475846,\n",
       "       197.74917254, 192.63892891, 201.59794379, 269.1364249 ,\n",
       "       193.19794683, 304.00524926, 202.30039825, 212.52088549,\n",
       "       264.23397196, 280.96961175, 313.99049573, 268.29789803,\n",
       "       307.47534319, 251.8417672 , 348.69579759, 196.83892739,\n",
       "       260.87250035, 197.95696322, 353.68269062, 161.21333742,\n",
       "       188.64672111, 284.18764681, 286.71059156, 291.26181727,\n",
       "       265.00814469, 260.03397348, 246.38029634, 302.43681784,\n",
       "       195.22622779, 170.16230932, 387.5769157 , 344.09293956,\n",
       "       268.50568871, 163.71887505, 206.63646914, 227.84157339,\n",
       "       292.07289405, 195.57745502, 383.09740826, 338.70318698,\n",
       "       194.66720988, 197.53401771, 262.27740927, 331.98024375,\n",
       "       313.49583195, 182.97009544, 188.64672111, 254.57250262,\n",
       "       181.36475998, 244.63152433, 311.18804203, 252.12127615,\n",
       "       276.90568567, 209.79015007, 330.92656206, 249.39054073,\n",
       "       187.73647597, 205.23892436, 187.73647597, 235.45735464,\n",
       "       250.93152206, 198.65941768, 292.98313919, 190.4672114 ,\n",
       "       364.16996501, 382.11544484, 254.6442209 , 268.22617976,\n",
       "       250.58029483, 315.87534015, 287.4573142 , 265.77495329,\n",
       "       262.41348167, 250.93152206, 190.4672114 , 324.84171916,\n",
       "       318.18313007, 188.0877032 , 317.48803975, 196.83892739,\n",
       "       302.32083138, 279.56470283, 201.03892587, 323.09294715,\n",
       "       190.4672114 , 302.99583575, 263.32372682, 260.38520071,\n",
       "       248.83152282, 241.341771  , 213.63892132, 291.23436718,\n",
       "       235.95201842, 212.72867617, 228.20284359, 317.48803975,\n",
       "       260.59299139, 216.36965674, 231.75201994, 332.74705235,\n",
       "       291.09829477, 290.18804963, 273.05691442, 251.35446756,\n",
       "       342.06465859, 200.68769864, 209.79015007, 193.19794683,\n",
       "       190.4672114 , 188.0877032 , 271.23642414, 320.99294791,\n",
       "       251.8417672 , 214.82867542, 183.81598645, 290.32412203,\n",
       "       397.69087044, 177.02132495, 208.87990492, 205.44671504,\n",
       "       347.59784772, 193.82868301, 249.11103177, 256.39299291,\n",
       "       252.12127615, 186.4750036 , 213.63892132, 256.32127463,\n",
       "       298.5437784 , 188.99794834, 184.72623159, 367.62324084,\n",
       "       250.02127691, 435.0457355 , 240.00858035, 258.21348319,\n",
       "       219.80284663, 224.56186302, 261.22372758, 262.41348167,\n",
       "       184.65451332, 317.48803975, 300.08475973, 265.00814469,\n",
       "       342.06465859, 273.68765061, 218.19014703, 185.21353123,\n",
       "       213.91843027, 246.10078739, 253.0315213 , 202.50818893,\n",
       "       256.81593841, 218.89260149, 211.61064035, 214.34137578,\n",
       "       313.49583195, 211.61064035, 227.08480777, 207.05941464,\n",
       "       389.67691494, 206.1491695 , 224.95735844])"
      ]
     },
     "execution_count": 43,
     "metadata": {},
     "output_type": "execute_result"
    }
   ],
   "source": [
    "# Predicting a new result with Linear Regression\n",
    "y_pred = lin_reg.predict(X_test)\n",
    "y_pred"
   ]
  },
  {
   "cell_type": "code",
   "execution_count": 44,
   "metadata": {},
   "outputs": [
    {
     "data": {
      "text/plain": [
       "0.8539151785005095"
      ]
     },
     "execution_count": 44,
     "metadata": {},
     "output_type": "execute_result"
    }
   ],
   "source": [
    "# Calculating R^2 for the accuracy of the model\n",
    "from sklearn.metrics import r2_score\n",
    "r2_score(y_test, y_pred)"
   ]
  },
  {
   "cell_type": "code",
   "execution_count": 45,
   "metadata": {},
   "outputs": [
    {
     "data": {
      "image/png": "[encoded data removed]",
      "text/plain": [
       "<Figure size 864x576 with 1 Axes>"
      ]
     },
     "metadata": {
      "needs_background": "light"
     },
     "output_type": "display_data"
    }
   ],
   "source": [
    "import seaborn as sns\n",
    "\n",
    "# visualization with density plot\n",
    "plt.figure(figsize=(12, 8))\n",
    "\n",
    "ax1 = sns.distplot(y_test, hist=False, color=\"r\", label=\"Actual Test Value\")\n",
    "ax1 = sns.distplot(y_pred, hist=False, color=\"b\", label=\"Predicted Values\")\n",
    "\n",
    "plt.title('Actual vs Predicted Values for CO2EMISSIONS') \n",
    "plt.xlabel('Purchased') \n",
    "plt.ylabel('Frequency')\n",
    "plt.show() \n",
    "plt.close()"
   ]
  },
  {
   "cell_type": "markdown",
   "metadata": {},
   "source": [
    "#### Polynomial Reg"
   ]
  },
  {
   "cell_type": "code",
   "execution_count": 46,
   "metadata": {},
   "outputs": [],
   "source": [
    "# Fitting Polynomial Regression to the dataset\n",
    "from sklearn.preprocessing import PolynomialFeatures\n",
    "poly_features = PolynomialFeatures(degree= 4)\n",
    "  \n",
    "# transforms the existing features to higher degree features.\n",
    "X_train_poly = poly_features.fit_transform(X_train)\n"
   ]
  },
  {
   "cell_type": "code",
   "execution_count": 47,
   "metadata": {},
   "outputs": [
    {
     "data": {
      "text/plain": [
       "LinearRegression()"
      ]
     },
     "execution_count": 47,
     "metadata": {},
     "output_type": "execute_result"
    }
   ],
   "source": [
    "# fit the transformed features to Linear Regression\n",
    "poly_reg = LinearRegression()\n",
    "poly_reg.fit(X_train_poly, y_train)"
   ]
  },
  {
   "cell_type": "code",
   "execution_count": 48,
   "metadata": {},
   "outputs": [
    {
     "data": {
      "text/plain": [
       "array([354.57143783, 211.5124707 , 231.07927833, 217.31333444,\n",
       "       162.73792647, 293.27352407, 213.81582958, 273.4019393 ,\n",
       "       204.42846809, 329.76347781, 285.45437349, 365.92605894,\n",
       "       196.8664075 , 279.33315769, 177.2138782 , 249.77553445,\n",
       "       350.77537086, 223.22019679, 254.77499817, 385.91406706,\n",
       "       192.34584803, 192.13628894, 248.56002714, 233.58938106,\n",
       "       121.11388257, 281.15566302, 273.35112127, 360.27369189,\n",
       "       254.74355938, 141.78877331, 358.67166446, 242.13893727,\n",
       "       282.9606826 , 246.7017472 , 192.34584803, 196.49939636,\n",
       "       295.36243877, 222.71368708, 246.85550666, 240.74565376,\n",
       "       186.47777274, 186.47777274, 204.42846809, 171.54768811,\n",
       "       297.31012219, 198.62754185, 254.7098899 , 181.41323457,\n",
       "       339.26903246, 352.17706398, 333.69649391, 252.12907244,\n",
       "       280.26375198, 147.54597443, 231.07927833, 181.41323457,\n",
       "       280.87198622, 165.96839322, 262.55616528, 208.2076167 ,\n",
       "       207.52663655, 207.19349927, 221.16001082, 360.27369189,\n",
       "       263.88563368, 297.47218231, 343.79815617, 284.21279567,\n",
       "       207.52663655, 130.11079764, 305.88297888, 192.13628894,\n",
       "       343.44621817, 362.17989101, 338.47146616, 218.32940735,\n",
       "       277.17840404, 183.02286394, 228.31404562, 171.54768811,\n",
       "       187.53397572, 255.71610121, 167.7191922 , 353.81033294,\n",
       "       362.8042243 , 251.48336798, 192.43557303, 172.29345684,\n",
       "       352.93747413, 248.92172624, 268.63912493, 208.2076167 ,\n",
       "       266.16890387, 336.98978079, 359.47886288, 358.5688285 ,\n",
       "       162.73792647, 225.33681325, 382.41668925, 264.97347679,\n",
       "       181.96733193, 317.99919601, 146.60037572, 171.30973146,\n",
       "       203.0971856 , 197.63471792, 200.56142609, 278.50801012,\n",
       "       192.13756262, 268.86966718, 214.21388263, 222.96389768,\n",
       "       269.30994622, 284.0307986 , 324.75398525, 281.66843415,\n",
       "       291.24749719, 248.56002714, 358.22112531, 200.89137459,\n",
       "       259.65413862, 192.7889398 , 384.76209358, 148.88053918,\n",
       "       181.41323457, 297.00351234, 284.6074009 , 282.0252506 ,\n",
       "       285.00898063, 265.69418927, 234.97227677, 292.60115633,\n",
       "       186.92436628, 142.83664257, 339.26903246, 369.83708181,\n",
       "       277.17840404, 142.78066846, 199.2353001 , 233.51975782,\n",
       "       260.50944294, 192.34584803, 336.98978079, 358.5688285 ,\n",
       "       190.38469962, 171.28668661, 282.21754541, 348.01719025,\n",
       "       302.33369697, 127.94880938, 181.41323457, 254.77499817,\n",
       "       165.17468986, 242.71155293, 308.94487697, 245.39452275,\n",
       "       288.89839913, 217.51826709, 326.9029414 , 238.36535765,\n",
       "       179.30926929, 208.2076167 , 179.30926929, 205.81254389,\n",
       "       246.39279694, 205.30901678, 262.52888627, 185.66630793,\n",
       "       413.86361029, 341.07963248, 264.24377602, 277.55656675,\n",
       "       236.86587041, 303.21636563, 281.83524049, 273.4019393 ,\n",
       "       265.75515136, 246.39279694, 185.66630793, 338.20323594,\n",
       "       284.10376016, 184.74756647, 317.6218097 , 200.89137459,\n",
       "       314.76933223, 293.39098405, 204.14609009, 341.0079734 ,\n",
       "       185.66630793, 287.61574761, 267.5674493 , 270.85205574,\n",
       "       245.17836897, 242.07419538, 220.53802713, 265.52769891,\n",
       "       238.01293242, 218.32940735, 251.38581067, 317.6218097 ,\n",
       "       261.92869592, 226.96437465, 230.41029758, 332.87679855,\n",
       "       295.3743879 , 292.05229293, 281.92925163, 265.15521715,\n",
       "       360.12917728, 198.62754185, 217.51826709, 192.13756262,\n",
       "       185.66630793, 184.74756647, 280.26375198, 340.73991714,\n",
       "       248.56002714, 222.21196623, 171.65151614, 263.11992852,\n",
       "       389.48107234, 151.72709931, 215.67979889, 199.57378437,\n",
       "       354.87921342, 196.94452441, 241.93204276, 258.65356381,\n",
       "       245.39452275, 173.14383002, 220.53802713, 247.96358884,\n",
       "       275.25249132, 187.29445657, 173.86109863, 342.17360405,\n",
       "       244.18246595, 421.90719389, 217.97857732, 262.29868911,\n",
       "       237.07973425, 244.42982331, 265.64428121, 265.75515136,\n",
       "       169.50060047, 317.6218097 , 271.07686735, 285.00898063,\n",
       "       360.12917728, 282.12702915, 231.07927833, 166.06868644,\n",
       "       219.80007861, 238.50627387, 247.65665725, 202.48725261,\n",
       "       274.85411442, 235.3363068 , 221.16001082, 226.54021522,\n",
       "       302.33369697, 221.16001082, 251.11528265, 211.96712692,\n",
       "       340.78336722, 210.09310021, 196.8664075 ])"
      ]
     },
     "execution_count": 48,
     "metadata": {},
     "output_type": "execute_result"
    }
   ],
   "source": [
    "# predicting on test data-set\n",
    "y_pred = poly_reg.predict(poly_features.fit_transform(X_test))\n",
    "y_pred"
   ]
  },
  {
   "cell_type": "code",
   "execution_count": 49,
   "metadata": {},
   "outputs": [
    {
     "data": {
      "text/plain": [
       "0.9303978181425802"
      ]
     },
     "execution_count": 49,
     "metadata": {},
     "output_type": "execute_result"
    }
   ],
   "source": [
    "# evaluating the model on training dataset\n",
    "# Calculating R^2 for the accuracy of the model\n",
    "r2_test = r2_score(y_test, y_pred)\n",
    "r2_test"
   ]
  },
  {
   "cell_type": "code",
   "execution_count": 50,
   "metadata": {},
   "outputs": [
    {
     "data": {
      "image/png": "[encoded data removed]",
      "text/plain": [
       "<Figure size 864x576 with 1 Axes>"
      ]
     },
     "metadata": {
      "needs_background": "light"
     },
     "output_type": "display_data"
    }
   ],
   "source": [
    "import seaborn as sns\n",
    "\n",
    "# visualization with density plot\n",
    "plt.figure(figsize=(12, 8))\n",
    "\n",
    "ax1 = sns.distplot(y_test, hist=False, color=\"r\", label=\"Actual Test Value\")\n",
    "ax1 = sns.distplot(y_pred, hist=False, color=\"b\", label=\"Predicted Values\")\n",
    "\n",
    "plt.title('Actual vs Predicted Values for CO2EMISSIONS') \n",
    "plt.xlabel('Purchased') \n",
    "plt.ylabel('Frequency')\n",
    "plt.show() \n",
    "plt.close()"
   ]
  },
  {
   "cell_type": "code",
   "execution_count": null,
   "metadata": {},
   "outputs": [],
   "source": []
  }
 ],
 "metadata": {
  "kernelspec": {
   "display_name": "Python 3",
   "language": "python",
   "name": "python3"
  },
  "language_info": {
   "codemirror_mode": {
    "name": "ipython",
    "version": 3
   },
   "file_extension": ".py",
   "mimetype": "text/x-python",
   "name": "python",
   "nbconvert_exporter": "python",
   "pygments_lexer": "ipython3",
   "version": "3.8.3"
  }
 },
 "nbformat": 4,
 "nbformat_minor": 4
}
